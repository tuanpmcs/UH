{
  "cells": [
    {
      "cell_type": "markdown",
      "metadata": {
        "id": "U9u7QI4MN4hT"
      },
      "source": [
        "# Part A\n",
        "#### Run each cell in the notebook. For each question presented, type in your answer and adjust it as needed until it aligns with Python's actual solution. This process will help you compare your assumptions with Python’s approach to solving the problem.\n"
      ]
    },
    {
      "cell_type": "markdown",
      "metadata": {
        "id": "P5k0_N7WRyiV"
      },
      "source": [
        "# New Section"
      ]
    },
    {
      "cell_type": "code",
      "execution_count": 1,
      "metadata": {
        "colab": {
          "base_uri": "https://localhost:8080/"
        },
        "id": "EuWwyElsN4hU",
        "outputId": "d4d7bae3-b079-4170-9058-873c925f0226"
      },
      "outputs": [
        {
          "name": "stdout",
          "output_type": "stream",
          "text": [
            "2.5\n",
            "You are Correct\n"
          ]
        }
      ],
      "source": [
        "my_answer = eval (input (f'What is the value of 10/4 ?\\n'))\n",
        "\n",
        "print(my_answer)\n",
        "\n",
        "if my_answer== 10/4:\n",
        "    print(\"You are Correct\")\n",
        "else:\n",
        "    print(\"Wrong Answer, Try Again\")\n",
        "\n",
        "\n"
      ]
    },
    {
      "cell_type": "code",
      "execution_count": 2,
      "metadata": {
        "id": "vRLPgIyNN4hV"
      },
      "outputs": [
        {
          "name": "stdout",
          "output_type": "stream",
          "text": [
            "2\n",
            "You are Correct\n"
          ]
        }
      ],
      "source": [
        "my_answer = eval (input (f'What is the value of 10//4 ?\\n'))\n",
        "\n",
        "print(my_answer)\n",
        "\n",
        "if my_answer== 10//4:\n",
        "    print(\"You are Correct\")\n",
        "else:\n",
        "    print(\"Wrong Answer, Try Again\")"
      ]
    },
    {
      "cell_type": "code",
      "execution_count": 3,
      "metadata": {
        "id": "H6GCebHwN4hV"
      },
      "outputs": [
        {
          "name": "stdout",
          "output_type": "stream",
          "text": [
            "2.0\n",
            "You are Correct\n"
          ]
        }
      ],
      "source": [
        "my_answer = eval (input (f'What is the value of float(10//4) ?\\n'))\n",
        "\n",
        "print(my_answer)\n",
        "\n",
        "if my_answer== float(10//4) and isinstance( my_answer, float) :\n",
        "    print(\"You are Correct\")\n",
        "else:\n",
        "    print(\"Wrong Answer, Try Again\")"
      ]
    },
    {
      "cell_type": "code",
      "execution_count": 4,
      "metadata": {
        "id": "cCcT9mPNN4hV"
      },
      "outputs": [
        {
          "name": "stdout",
          "output_type": "stream",
          "text": [
            "5.0\n",
            "You are Correct\n"
          ]
        }
      ],
      "source": [
        "my_answer = eval (input (f'What is the value of 2.0 + 10//3 ?\\n'))\n",
        "\n",
        "print(my_answer)\n",
        "\n",
        "if my_answer== 2.0 + 10//3  and isinstance( my_answer, float) :\n",
        "    print(\"You are Correct\")\n",
        "else:\n",
        "    print(\"Wrong Answer, Try Again\")"
      ]
    },
    {
      "cell_type": "code",
      "execution_count": 5,
      "metadata": {
        "id": "nTijpayAN4hW"
      },
      "outputs": [
        {
          "name": "stdout",
          "output_type": "stream",
          "text": [
            "2\n",
            "You are Correct\n"
          ]
        }
      ],
      "source": [
        "my_answer = eval (input (f'What is the value of int(10/4) ?\\n'))\n",
        "\n",
        "print(my_answer)\n",
        "\n",
        "if my_answer== int(10/4) and isinstance( my_answer, int) :\n",
        "    print(\"You are Correct\")\n",
        "else:\n",
        "    print(\"Wrong Answer, Try Again\")"
      ]
    },
    {
      "cell_type": "code",
      "execution_count": 6,
      "metadata": {
        "id": "bNlU0J-7N4hW"
      },
      "outputs": [
        {
          "name": "stdout",
          "output_type": "stream",
          "text": [
            "4\n",
            "You are Correct\n"
          ]
        }
      ],
      "source": [
        "my_answer = eval (input (f'What is the value of int(4.3) ?\\n'))\n",
        "\n",
        "print(my_answer)\n",
        "\n",
        "if my_answer== int(4.3) and isinstance( my_answer, int) :\n",
        "    print(\"You are Correct\")\n",
        "else:\n",
        "    print(\"Wrong Answer, Try Again\")"
      ]
    },
    {
      "cell_type": "code",
      "execution_count": 7,
      "metadata": {
        "id": "UAnPQcZsN4hW"
      },
      "outputs": [
        {
          "name": "stdout",
          "output_type": "stream",
          "text": [
            "2.5\n",
            "You are Correct\n"
          ]
        }
      ],
      "source": [
        "my_answer = eval (input (f'What is the value of 10.0/4.0 ?\\n'))\n",
        "\n",
        "print(my_answer)\n",
        "\n",
        "if my_answer == 10.0/4.0 and isinstance( my_answer, float) :\n",
        "    print(\"You are Correct\")\n",
        "else:\n",
        "    print(\"Wrong Answer, Try Again\")"
      ]
    },
    {
      "cell_type": "code",
      "execution_count": 8,
      "metadata": {
        "id": "87n2kV-QN4hW"
      },
      "outputs": [
        {
          "name": "stdout",
          "output_type": "stream",
          "text": [
            "2\n",
            "You are Correct\n"
          ]
        }
      ],
      "source": [
        "my_answer = eval (input (f'What is the value of 10 % 4 ?\\n'))\n",
        "\n",
        "print(my_answer)\n",
        "\n",
        "if my_answer == 10%4 and isinstance( my_answer, int) :\n",
        "    print(\"You are Correct\")\n",
        "else:\n",
        "    print(\"Wrong Answer, Try Again\")"
      ]
    },
    {
      "cell_type": "code",
      "execution_count": 12,
      "metadata": {
        "id": "g2K7GRjON4hX"
      },
      "outputs": [
        {
          "name": "stdout",
          "output_type": "stream",
          "text": [
            "2\n",
            "You are Correct\n"
          ]
        }
      ],
      "source": [
        "my_answer = eval (input (f'What is the value of 2 % 10 ?\\n'))\n",
        "\n",
        "print(my_answer)\n",
        "\n",
        "if my_answer == 2 % 10 and isinstance( my_answer, int) :\n",
        "    print(\"You are Correct\")\n",
        "else:\n",
        "    print(\"Wrong Answer, Try Again\")"
      ]
    },
    {
      "cell_type": "code",
      "execution_count": 13,
      "metadata": {
        "id": "zFdXhlVbN4hX"
      },
      "outputs": [
        {
          "name": "stdout",
          "output_type": "stream",
          "text": [
            "729\n",
            "You are Correct\n"
          ]
        }
      ],
      "source": [
        "my_answer = eval (input (f'What is the value of 9**3 ?\\n'))\n",
        "\n",
        "print(my_answer)\n",
        "\n",
        "if my_answer == 9**3 and isinstance( my_answer, int) :\n",
        "    print(\"You are Correct\")\n",
        "else:\n",
        "    print(\"Wrong Answer, Try Again\")"
      ]
    },
    {
      "cell_type": "code",
      "execution_count": 15,
      "metadata": {
        "id": "-M2_8jG0N4hX"
      },
      "outputs": [
        {
          "name": "stdout",
          "output_type": "stream",
          "text": [
            "3.0\n",
            "You are Correct\n"
          ]
        }
      ],
      "source": [
        "my_answer = eval (input (f'What is the value of 9 ** .5 ?\\n'))\n",
        "\n",
        "print(my_answer)\n",
        "\n",
        "if my_answer == 9**.5 and isinstance( my_answer, float) :\n",
        "    print(\"You are Correct\")\n",
        "else:\n",
        "    print(\"Wrong Answer, Try Again\")"
      ]
    },
    {
      "cell_type": "code",
      "execution_count": 19,
      "metadata": {
        "id": "L3pQMWkDN4hX"
      },
      "outputs": [
        {
          "name": "stdout",
          "output_type": "stream",
          "text": [
            "3\n",
            "You are Correct\n"
          ]
        }
      ],
      "source": [
        "my_answer = eval (input (f'What is the value of 3 ** 2 ** 0 ?\\n'))\n",
        "\n",
        "print(my_answer)\n",
        "\n",
        "if my_answer == 3 ** 2 ** 0 and isinstance( my_answer, int) :\n",
        "    print(\"You are Correct\")\n",
        "else:\n",
        "    print(\"Wrong Answer, Try Again\")"
      ]
    },
    {
      "cell_type": "code",
      "execution_count": 20,
      "metadata": {
        "id": "t00MT1yNN4hX"
      },
      "outputs": [
        {
          "name": "stdout",
          "output_type": "stream",
          "text": [
            "1\n",
            "You are Correct\n"
          ]
        }
      ],
      "source": [
        "my_answer = eval (input (f'What is the value of 2 ** 0 ** 3 ?\\n'))\n",
        "\n",
        "print(my_answer)\n",
        "\n",
        "if my_answer == 2 ** 0 ** 3 and isinstance( my_answer, int) :\n",
        "    print(\"You are Correct\")\n",
        "else:\n",
        "    print(\"Wrong Answer, Try Again\")"
      ]
    },
    {
      "cell_type": "code",
      "execution_count": 21,
      "metadata": {
        "id": "k4JeGKeGN4hX"
      },
      "outputs": [
        {
          "name": "stdout",
          "output_type": "stream",
          "text": [
            "13.0\n",
            "You are Correct\n"
          ]
        }
      ],
      "source": [
        "my_answer = eval (input (f'What is the value of 3.0 + 10 ?\\n'))\n",
        "\n",
        "print(my_answer)\n",
        "\n",
        "if my_answer == 3.0 + 10 and isinstance( my_answer, float) :\n",
        "    print(\"You are Correct\")\n",
        "else:\n",
        "    print(\"Wrong Answer, Try Again\")"
      ]
    },
    {
      "cell_type": "code",
      "execution_count": 25,
      "metadata": {
        "id": "ZD8iAvagN4hY"
      },
      "outputs": [
        {
          "name": "stdout",
          "output_type": "stream",
          "text": [
            "68.0\n",
            "You are Correct\n"
          ]
        }
      ],
      "source": [
        "my_answer = eval (input (f'What is the value of 4+2**8/4 ?\\n'))\n",
        "\n",
        "print(my_answer)\n",
        "\n",
        "if my_answer == 4+2**8/4 and isinstance( my_answer, float) :\n",
        "    print(\"You are Correct\")\n",
        "else:\n",
        "    print(\"Wrong Answer, Try Again\")"
      ]
    },
    {
      "cell_type": "markdown",
      "metadata": {
        "id": "FpEn5TEvN4hY"
      },
      "source": [
        "# Part B\n",
        "######  For the problems below, replace `pass`  with the appropriate Python statement(s) to correctly solve each problem."
      ]
    },
    {
      "cell_type": "markdown",
      "metadata": {
        "id": "WTaEYYeFN4hY"
      },
      "source": [
        "#### 1. Write a single Python statement to display the following message on the screen: \"I’m super excited about 212 Scientific Programming with Python.\""
      ]
    },
    {
      "cell_type": "code",
      "execution_count": 26,
      "metadata": {
        "id": "o-6N2tA_N4hY"
      },
      "outputs": [
        {
          "name": "stdout",
          "output_type": "stream",
          "text": [
            "I'm super excited to about 212 Scientific Programming with Python.\n"
          ]
        }
      ],
      "source": [
        "def my_message():\n",
        "    print(\"I'm super excited to about 212 Scientific Programming with Python.\")\n",
        "\n",
        "\n",
        "my_message()"
      ]
    },
    {
      "cell_type": "markdown",
      "metadata": {
        "id": "xwXRwOlKN4hY"
      },
      "source": [
        "#### 2. Complete the function by creating a variable named day and assigning it the value \"Wednesday.\" Then, determine and print the data type of the variable using Python code."
      ]
    },
    {
      "cell_type": "code",
      "execution_count": 27,
      "metadata": {
        "id": "eupu0JamN4hZ"
      },
      "outputs": [
        {
          "name": "stdout",
          "output_type": "stream",
          "text": [
            "Wednesday\n"
          ]
        }
      ],
      "source": [
        "def my_type():\n",
        "    day = \"Wednesday\"\n",
        "    print(day)\n",
        "\n",
        "my_type()\n",
        "\n"
      ]
    },
    {
      "cell_type": "markdown",
      "metadata": {
        "id": "3sd4xNg7N4hZ"
      },
      "source": [
        "#### 3. Use Python code to prompt the user to enter their first name and store it in a variable called `first_name`. Then, prompt the user to enter their last name and store it in a variable called `last_name`. Finally, print the message in a single line:  \n",
        "\n",
        "**\"Hi firstname lastname, how’s it going?\"**  \n",
        "\n",
        "(Replace `firstname` and `lastname` with the user’s actual input.)\n",
        "\n",
        "message2()<br>\n",
        "What is your first name? <br>\n",
        "Jonny<br>\n",
        "What`s your last name?<br>\n",
        "Biden<br>\n",
        "Hi Jonny Biden, how’s it going?\n",
        "\n"
      ]
    },
    {
      "cell_type": "code",
      "execution_count": 31,
      "metadata": {
        "id": "AWvJa-0IN4hZ"
      },
      "outputs": [
        {
          "name": "stdout",
          "output_type": "stream",
          "text": [
            "Tuan\n",
            "Pham\n",
            "Hi Tuan Pham, How's it going?\n"
          ]
        }
      ],
      "source": [
        "def my_message2():\n",
        "    first_name = input(f'What\\'s your first name?\\n')\n",
        "    print(first_name)\n",
        "    last_name = input(f'What\\'s your last name?\\n')\n",
        "    print(last_name)\n",
        "    print(f'Hi {first_name} {last_name}, How\\'s it going?')\n",
        "\n",
        "my_message2()"
      ]
    },
    {
      "cell_type": "markdown",
      "metadata": {
        "id": "ZfKVYYJJN4hZ"
      },
      "source": [
        "##### 4. Request the user for their birth year and compute his/her age. Send a message to the screen with the age.\n"
      ]
    },
    {
      "cell_type": "code",
      "execution_count": 32,
      "metadata": {
        "id": "veJ5aHjbN4hZ"
      },
      "outputs": [
        {
          "name": "stdout",
          "output_type": "stream",
          "text": [
            "You are 27 years old in 2025!\n"
          ]
        }
      ],
      "source": [
        "def my_message3():\n",
        "    birthday = input(f'What\\'s your birthday year?\\n')\n",
        "\n",
        "    age = 2025 - int(birthday)\n",
        "    print(f'You are {age} years old in 2025!')\n",
        "my_message3()"
      ]
    },
    {
      "cell_type": "markdown",
      "metadata": {
        "id": "CveFoAvgN4hZ"
      },
      "source": [
        "#### 5. Write a Python program to calculate the total time required for a runner to complete a 10-mile run, given the following pace segments:  \n",
        "\n",
        "- **First mile**: 8.5 minutes per mile  \n",
        "- **Next 4 miles**: 8.15 minutes per mile  \n",
        "- **Following 4 miles**: 8.10 minutes per mile  \n",
        "- **Last mile**: 8.5 minutes per mile  \n",
        "\n",
        "Compute and display the total running time in minutes."
      ]
    },
    {
      "cell_type": "code",
      "execution_count": 38,
      "metadata": {
        "id": "iWgB_i0mN4hZ"
      },
      "outputs": [
        {
          "name": "stdout",
          "output_type": "stream",
          "text": [
            "The total time to run 10 miles is 82.00 minutes.\n"
          ]
        }
      ],
      "source": [
        "def my_total_miles():\n",
        "    distance_and_pace = {\n",
        "        \"First mile\" : [1, 8.5],\n",
        "        \"Next 4 miles\" : [4, 8.15],\n",
        "        \"Following 4 miles\" : [4, 8.10],\n",
        "        \"Last mine\" : [1, 8.5]\n",
        "    }\n",
        "\n",
        "    total_time = 0.0\n",
        "\n",
        "    for _, (distance, pace) in distance_and_pace.items():\n",
        "        total_time += distance * pace\n",
        "\n",
        "    print(f'The total time to run 10 miles is {total_time:.2f} minutes.')\n",
        "\n",
        "my_total_miles()"
      ]
    }
  ],
  "metadata": {
    "colab": {
      "provenance": []
    },
    "kernelspec": {
      "display_name": ".venv",
      "language": "python",
      "name": "python3"
    },
    "language_info": {
      "codemirror_mode": {
        "name": "ipython",
        "version": 3
      },
      "file_extension": ".py",
      "mimetype": "text/x-python",
      "name": "python",
      "nbconvert_exporter": "python",
      "pygments_lexer": "ipython3",
      "version": "3.9.6"
    }
  },
  "nbformat": 4,
  "nbformat_minor": 0
}
